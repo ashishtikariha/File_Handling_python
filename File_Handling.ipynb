{
 "cells": [
  {
   "cell_type": "markdown",
   "metadata": {},
   "source": [
    "## Ashish Tikariha\n",
    "## ashishtikaria5@gmail.com\n",
    "## Ph : 7987777139"
   ]
  },
  {
   "cell_type": "markdown",
   "metadata": {},
   "source": [
    "### File handling : opening,closing,reading,writing any other files like text file,images,videos etc through a python file using a set of commands are known as file handling"
   ]
  },
  {
   "cell_type": "markdown",
   "metadata": {},
   "source": [
    "# 1) To read a file we have to open the file first\n",
    "\n",
    "## synatx  < var >  = open('file_name.ext' , 'mode')\n",
    "##         < var >.close()\n",
    "    \n",
    "## closing is important otherwise changes wont be saved....it works as save & quit"
   ]
  },
  {
   "cell_type": "markdown",
   "metadata": {},
   "source": [
    "# 2) Data read from 'file' is always in 'string' format"
   ]
  },
  {
   "cell_type": "markdown",
   "metadata": {},
   "source": [
    "# 3) Modes of operation - text file\n",
    "\n",
    "## read mode = 'r'\n",
    "## write - 'w'\n",
    "## append - 'a'\n",
    "## read and write - 'r+'       ------>     read is domiant\n",
    "## write and read - 'w+'      ------>     write is dominant\n",
    "## Append,write and read - 'a+'"
   ]
  },
  {
   "cell_type": "markdown",
   "metadata": {},
   "source": [
    "# 4) Modes of operation - binary file  (Same commands with b)\n",
    "\n",
    "## read mode = 'rb'\n",
    "## write - 'wb'\n",
    "## append - 'ab'\n",
    "## read and write - 'r+b'\n",
    "## write and read - 'w+b'\n",
    "## Append,write and read - 'a+b'"
   ]
  },
  {
   "cell_type": "markdown",
   "metadata": {},
   "source": [
    "# 4) method on file object\n",
    "\n",
    "## - read() - reading a content from a file\n",
    "## - write() - writing a content to a file\n",
    "## - tell() - tell will give you the cursor postion\n",
    "## - seek() - is used to chnage postion of the cursor"
   ]
  },
  {
   "cell_type": "code",
   "execution_count": 3,
   "metadata": {},
   "outputs": [
    {
     "name": "stdout",
     "output_type": "stream",
     "text": [
      "def add(a,b,c):\n",
      "    return a+b+c\n",
      "def minus(a,b,c):\n",
      "    return a+b-c\n"
     ]
    }
   ],
   "source": [
    "f=open('mod_1.py','r')               #File open  (File location---->current directory)\n",
    "print(f.read())                      #Reading the file content as string and printing"
   ]
  },
  {
   "cell_type": "code",
   "execution_count": 4,
   "metadata": {},
   "outputs": [
    {
     "name": "stdout",
     "output_type": "stream",
     "text": [
      " Volume in drive C is Acer\n",
      " Volume Serial Number is 98C4-AFB7\n",
      "\n",
      " Directory of C:\\ASHISH\\Class notes & codes\\Python Classes\n",
      "\n",
      "29-05-2021  14:10    <DIR>          .\n",
      "29-05-2021  14:10    <DIR>          ..\n",
      "29-05-2021  12:37    <DIR>          .ipynb_checkpoints\n",
      "29-05-2021  11:37    <DIR>          __pycache__\n",
      "20-05-2021  14:31    <DIR>          Assignments\n",
      "04-05-2021  18:59             3,860 Class 1.ipynb\n",
      "19-05-2021  19:54            13,734 Class 10.ipynb\n",
      "21-05-2021  18:37            19,128 Class 12.ipynb\n",
      "26-05-2021  01:51            11,154 Class 13.ipynb\n",
      "28-05-2021  20:35            16,911 Class 22.ipynb\n",
      "16-05-2021  14:05            18,396 Class 7.ipynb\n",
      "16-05-2021  15:00            14,628 class 8.ipynb\n",
      "20-05-2021  19:21            23,269 CLASS 9.ipynb\n",
      "28-05-2021  20:26            18,143 Class_14.ipynb\n",
      "29-05-2021  12:45            18,208 Class_15.ipynb\n",
      "29-05-2021  14:10             3,268 Class_16.ipynb\n",
      "22-05-2021  16:05           307,022 Class_defination.png\n",
      "21-05-2021  13:31           164,966 Class11.ipynb\n",
      "14-05-2021  02:21            12,361 Class2.ipynb\n",
      "16-05-2021  00:18            15,327 Class3.ipynb\n",
      "16-05-2021  01:15            24,166 Class4.ipynb\n",
      "16-05-2021  01:35             5,559 Class5.ipynb\n",
      "16-05-2021  13:35            15,383 class6.ipynb\n",
      "29-05-2021  11:35                67 mod_1.py\n",
      "26-05-2021  01:12            22,017 OCsJC.png\n",
      "              20 File(s)        727,567 bytes\n",
      "               5 Dir(s)  320,452,952,064 bytes free\n"
     ]
    }
   ],
   "source": [
    "ls                    # ls can be used to check the list of files in current directory"
   ]
  },
  {
   "cell_type": "markdown",
   "metadata": {},
   "source": [
    "\n",
    "## 1. Read mode - 'r'\n",
    "- If the file exists then it will open the file in read mode and places the cursor at the begining of the file\n",
    "- if the file does not exist in current directory then it will give FileNotFoundError\n",
    "- You are allowed only to read from the file but not allowed to write into the file"
   ]
  },
  {
   "cell_type": "code",
   "execution_count": 13,
   "metadata": {},
   "outputs": [
    {
     "name": "stdout",
     "output_type": "stream",
     "text": [
      "0\n",
      "def add(a,b,c):\n",
      "    return a+b+c\n",
      "def minus(a,b,c):\n",
      "    return a+b-c\n",
      "67\n",
      "20\n",
      "return a+b+c\n",
      "def minus(a,b,c):\n",
      "    return a+b-c\n"
     ]
    }
   ],
   "source": [
    "f=open('mod_1.py','r')       # File opened in read mode....curser at start\n",
    "print(f.tell())              # Gives the current location of curser\n",
    "print(f.read())              # read the whole file char by char and finally the curser will be at end of file\n",
    "print(f.tell())              # Gives the current location of curser\n",
    "f.seek(20)                   # Changing curser position\n",
    "print(f.tell())              # Gives the current location of curser\n",
    "print(f.read())              # read the file from current location to EOF"
   ]
  },
  {
   "cell_type": "markdown",
   "metadata": {},
   "source": [
    "## 2. Write mode - 'w'\n",
    "- If the file exists then it will open the file in write mode and deletes the content of the file\n",
    "- if the file does not exists then it will create a file with given name and extension\n",
    "- You are allowed only to write into the file but not allowed to read from the file"
   ]
  },
  {
   "cell_type": "code",
   "execution_count": 20,
   "metadata": {},
   "outputs": [],
   "source": [
    "# If file is not there\n",
    "f=open('file_1.py','w')         # New file created in current directory\n",
    "f.write('Hello!')               # Wrote hello! but wont reflect on file\n",
    "f.close()                       # Now the changes will reflect in file"
   ]
  },
  {
   "cell_type": "code",
   "execution_count": 28,
   "metadata": {},
   "outputs": [
    {
     "name": "stdout",
     "output_type": "stream",
     "text": [
      "0\n",
      "12\n",
      "14\n"
     ]
    }
   ],
   "source": [
    "# If file is there\n",
    "f=open('file_1.py','w')         # file opened & previously written Hello! got erased\n",
    "print(f.tell())\n",
    "f.write('Good Morning')\n",
    "print(f.tell())\n",
    "f.seek(5)\n",
    "f.write('Afternoon')\n",
    "print(f.tell())\n",
    "f.close()"
   ]
  },
  {
   "cell_type": "markdown",
   "metadata": {},
   "source": [
    "## 3. Append mode - 'a'\n",
    "- If the file exists then it will open the file in write mode and places the cursor at the end of the file\n",
    "- if the file does not exists then it will create a file with given name and extension\n",
    "- You are allowed only to write into the file but not allowed to read from the file\n",
    "- append will always write the content at the end of the file so seek() will not here"
   ]
  },
  {
   "cell_type": "code",
   "execution_count": 35,
   "metadata": {},
   "outputs": [
    {
     "name": "stdout",
     "output_type": "stream",
     "text": [
      "80\n",
      "90\n",
      "100\n",
      "110\n"
     ]
    }
   ],
   "source": [
    "# If file is not there\n",
    "f=open('file_2.py','a')             # New file created\n",
    "print(f.tell())\n",
    "f.write('Hello user')\n",
    "print(f.tell())\n",
    "f.seek(100)                        # seek() not working\n",
    "f.write('Hello user')\n",
    "print(f.tell())\n",
    "f.write('Hello user')\n",
    "print(f.tell())\n",
    "f.seek(100)\n",
    "f.close()"
   ]
  },
  {
   "cell_type": "markdown",
   "metadata": {},
   "source": [
    "## 4. Write and read mode - 'w+'\n",
    "- If the file exists then it will open the file in write mode and deletes the content of the file\n",
    "- if the file does not exists then it will create a file with given name and extension\n",
    "- you are allowed to write into the file and also allowed to read from the file"
   ]
  },
  {
   "cell_type": "code",
   "execution_count": 36,
   "metadata": {},
   "outputs": [
    {
     "name": "stdout",
     "output_type": "stream",
     "text": [
      "0\n",
      "xyzaan\n"
     ]
    }
   ],
   "source": [
    "f = open('file_2.py' , 'w+')\n",
    "print(f.tell())\n",
    "f.write('afsaan')\n",
    "f.seek(0)\n",
    "f.write('xyz')\n",
    "f.seek(0)\n",
    "print(f.read())\n",
    "f.close()"
   ]
  },
  {
   "cell_type": "markdown",
   "metadata": {},
   "source": [
    "## 5. read and write - 'r+'\n",
    "- If the file exists then it will open the file in read mode and places the cursor at the begining of the file\n",
    "- if the file does not exists then it will give FileNotFoundError\n",
    "- You are allowed to write into the file and also allowed to read from the file"
   ]
  },
  {
   "cell_type": "code",
   "execution_count": 40,
   "metadata": {},
   "outputs": [
    {
     "name": "stdout",
     "output_type": "stream",
     "text": [
      "0\n",
      "xyzaan \u0000\u0000\u0000\u0000\u0000\u0000\u0000\u0000\u0000\u0000\u0000\u0000\u0000afsaan xyz\n"
     ]
    }
   ],
   "source": [
    "f = open('file_2.py' , 'r+')\n",
    "print(f.tell())\n",
    "f.seek(20)\n",
    "f.write('afsaan ')\n",
    "f.write('xyz')\n",
    "f.seek(0)\n",
    "print(f.read())\n",
    "f.close()"
   ]
  },
  {
   "cell_type": "markdown",
   "metadata": {},
   "source": [
    "# 6. Append and read mode - 'a+'\n",
    "\n",
    "- If the file exists then it will open the file in append mode and places the cursor at the end of the file\n",
    "- if the file does not exists then it will create a file with given name and extension\n",
    "- You are allowed to write into the file and also allowed to read from the file\n",
    "- append will always write the the content at the end of the file so seek() will not here"
   ]
  },
  {
   "cell_type": "code",
   "execution_count": 46,
   "metadata": {},
   "outputs": [
    {
     "name": "stdout",
     "output_type": "stream",
     "text": [
      "47\n",
      "\n"
     ]
    }
   ],
   "source": [
    "f = open('file_1.py' , 'a+')\n",
    "print(f.tell())\n",
    "f.write('afsaan ')\n",
    "f.write('khan')\n",
    "print(f.read())\n",
    "f.close()"
   ]
  },
  {
   "cell_type": "markdown",
   "metadata": {},
   "source": [
    "# There is one more way to create a file object using 'with'\n",
    "# In this method closing file is not mandatory....it is automatic\n",
    "\n"
   ]
  },
  {
   "cell_type": "code",
   "execution_count": 52,
   "metadata": {},
   "outputs": [
    {
     "name": "stdout",
     "output_type": "stream",
     "text": [
      "0\n"
     ]
    }
   ],
   "source": [
    "with open('mod_1.py' , 'r') as f :\n",
    "    print(f.tell())"
   ]
  },
  {
   "cell_type": "code",
   "execution_count": 47,
   "metadata": {},
   "outputs": [],
   "source": [
    "# example 1\n",
    "\n",
    "content = \"\"\"Lorem Ipsum is simply dummy text of the printing and typesetting industry. \n",
    "Lorem Ipsum has been the industry standard dummy text ever since the 1500s, when an unknown printer took a galley of type and scrambled it to make a type specimen book. \n",
    "It has survived not only five centuries, but also the leap into electronic typesetting, remaining essentially unchanged. \n",
    "It was popularised in the 1960s with the release of Letraset sheets containing Lorem Ipsum passages, and more recently with desktop publishing software like Aldus PageMaker including versions of Lorem Ipsum.\"\"\"\n",
    "\n",
    "\n",
    "# question 1 - Count the number of chararcters , words and lines from a file\n",
    "# question 2 - Insert the line at line number 6, do not replace it\n",
    "# question 3 - take one image file , copy the content of image.jpg to new.png"
   ]
  },
  {
   "cell_type": "code",
   "execution_count": 49,
   "metadata": {},
   "outputs": [
    {
     "name": "stdout",
     "output_type": "stream",
     "text": [
      "575\n",
      "91\n"
     ]
    }
   ],
   "source": [
    "#sol1\n",
    "print(len(content))               # No of characters\n",
    "x=content.split(' ')\n",
    "print(len(x))                     # No of words               #File is not used in this soln"
   ]
  },
  {
   "cell_type": "code",
   "execution_count": 26,
   "metadata": {},
   "outputs": [
    {
     "name": "stdout",
     "output_type": "stream",
     "text": [
      "581\n",
      "92\n",
      "['\"\"\"Lorem Ipsum is simply dummy text of the printing and typesetting industry. \\n', 'Lorem Ipsum has been the industry standard dummy text ever since the 1500s, when an unknown printer took a galley of type and scrambled it to make a type specimen book. \\n', 'It has survived not only five centuries, but also the leap into electronic typesetting, remaining essentially unchanged. \\n', 'It was popularised in the 1960s with the release of Letraset sheets containing Lorem Ipsum passages, and more recently with desktop publishing software like Aldus PageMaker including versions of Lorem Ipsum.\"\"\"']\n",
      "4\n"
     ]
    }
   ],
   "source": [
    "#Sol1\n",
    "with open('file_3.txt','r') as f:       # Opening file\n",
    "    x=f.read()                 # Whole file read....curser at end of file\n",
    "    print(len(x))              # counting characters\n",
    "    y=x.count('\\n')\n",
    "    z=x.count(' ')\n",
    "    print(y+z-1)               # Counting words\n",
    "    f.seek(0)                  # placing curser at 0 before readlines\n",
    "    n=f.readlines()\n",
    "    print(n)\n",
    "    print(len(n))              # counting lines"
   ]
  },
  {
   "cell_type": "code",
   "execution_count": 54,
   "metadata": {},
   "outputs": [],
   "source": [
    "# sol3  \n",
    "with open('image.jpg' , 'rb') as f1:            # reading binary file\n",
    "    with open('new.png' , 'wb' ) as f2:         # copying the content to new file\n",
    "        f2.write(f1.read())"
   ]
  },
  {
   "cell_type": "markdown",
   "metadata": {},
   "source": [
    "## In all above cases we are using 'f' which is nothing but a identifier for file object\n",
    "## To handle a file first we need to create a file object"
   ]
  },
  {
   "cell_type": "markdown",
   "metadata": {},
   "source": [
    "# Methods to do the operation on Read mode\n",
    "- read() - reads the whoe content of teh file and returns a string object\n",
    "- read(char) - reads the specified no of characters from current position and returns string\n",
    "- readline() - reads the current line from the current position of teh cursor and retruns a string object\n",
    "- readlines() - reads the whole content of ten file and retuns a list of string where everyu element is a string and represents a line"
   ]
  },
  {
   "cell_type": "code",
   "execution_count": 9,
   "metadata": {},
   "outputs": [
    {
     "name": "stdout",
     "output_type": "stream",
     "text": [
      "Afternoon\n",
      "Ashish Tikariha\n",
      "IIT Bhubaneswar\n",
      "MTech\n"
     ]
    }
   ],
   "source": [
    "f = open('file_1.py')      # In read mode...close() is not required as we are not making any changes in file\n",
    "f.seek(5)\n",
    "print(f.read())"
   ]
  },
  {
   "cell_type": "code",
   "execution_count": 4,
   "metadata": {},
   "outputs": [
    {
     "name": "stdout",
     "output_type": "stream",
     "text": [
      "Afternoon\n",
      "\n"
     ]
    }
   ],
   "source": [
    "f = open('file_1.py')\n",
    "f.seek(5)\n",
    "print(f.readline())"
   ]
  },
  {
   "cell_type": "code",
   "execution_count": 7,
   "metadata": {},
   "outputs": [
    {
     "name": "stdout",
     "output_type": "stream",
     "text": [
      "['Good Afternoon\\n', 'Ashish Tikariha\\n', 'IIT Bhubaneswar\\n', 'MTech']\n"
     ]
    }
   ],
   "source": [
    "f = open('file_1.py')\n",
    "print(f.readlines())"
   ]
  },
  {
   "cell_type": "code",
   "execution_count": 8,
   "metadata": {},
   "outputs": [
    {
     "name": "stdout",
     "output_type": "stream",
     "text": [
      "Good After\n"
     ]
    }
   ],
   "source": [
    "f = open('file_1.py')\n",
    "print(f.read(10))"
   ]
  },
  {
   "cell_type": "markdown",
   "metadata": {},
   "source": [
    "# Methods to do the operation on Write mode\n",
    "- write('str')   -------> Takes only one string\n",
    "- writelines(['str1\\n', 'str2\\n', 'str3\\n'])   -----> Takes a list of strings with \\n"
   ]
  },
  {
   "cell_type": "code",
   "execution_count": 10,
   "metadata": {},
   "outputs": [],
   "source": [
    "f = open('file_2.py' , 'w')\n",
    "f.write('afsan\\nkhan')\n",
    "f.close()"
   ]
  },
  {
   "cell_type": "code",
   "execution_count": 11,
   "metadata": {},
   "outputs": [],
   "source": [
    "f = open('file_2.py' , 'w')\n",
    "f.writelines(['afsan\\nkhan' , 'khan' , 'football'])\n",
    "f.close()"
   ]
  },
  {
   "cell_type": "code",
   "execution_count": 13,
   "metadata": {},
   "outputs": [],
   "source": [
    "f = open('file_2.py' , 'w')\n",
    "f.writelines(['afsan\\nkhan\\n' , 'khan\\n' , 'football\\n'])\n",
    "f.close()"
   ]
  },
  {
   "cell_type": "code",
   "execution_count": null,
   "metadata": {},
   "outputs": [],
   "source": []
  }
 ],
 "metadata": {
  "kernelspec": {
   "display_name": "Python 3",
   "language": "python",
   "name": "python3"
  },
  "language_info": {
   "codemirror_mode": {
    "name": "ipython",
    "version": 3
   },
   "file_extension": ".py",
   "mimetype": "text/x-python",
   "name": "python",
   "nbconvert_exporter": "python",
   "pygments_lexer": "ipython3",
   "version": "3.8.5"
  }
 },
 "nbformat": 4,
 "nbformat_minor": 4
}
